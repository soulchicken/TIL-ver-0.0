{
  "nbformat": 4,
  "nbformat_minor": 0,
  "metadata": {
    "colab": {
      "name": "01_Numpy_늑대가 나타났다.ipynb",
      "provenance": [],
      "collapsed_sections": []
    },
    "kernelspec": {
      "name": "python3",
      "display_name": "Python 3"
    },
    "language_info": {
      "name": "python"
    }
  },
  "cells": [
    {
      "cell_type": "markdown",
      "source": [
        "## 늑대가 나타났다.\n",
        "- 100일동안 양치기 소년이 거짓말 유무를 리스트에 기록해놨다.\n",
        "- 거짓말을 한 날은 0, 진실은 1로 기록했다.\n",
        "- numpy를 통해 거짓말한 횟수를 구해본다."
      ],
      "metadata": {
        "id": "P54ytE_4v9bv"
      }
    },
    {
      "cell_type": "code",
      "source": [
        "import numpy as np"
      ],
      "metadata": {
        "id": "MQmSDn4mwQej"
      },
      "execution_count": 2,
      "outputs": []
    },
    {
      "cell_type": "code",
      "source": [
        "daily_liar_data = [0, 0, 0, 0, 0, 1, 1, 0, 1, 1, 0, 0, 0, 1, 0, 0, 1, 0, 0, 1, 0, 0, 0, 1, 0, 0, 0, 0, 0, 1, 0, 0, 0, \n",
        "                   1, 0, 0, 0, 0, 0, 0, 0, 0, 0, 0, 1, 1, 0, 1, 1, 0, 0, 0, 0, 0, 1, 0, 1, 0, 0, 1, 0, 1, 0, 0, 1, 0, \n",
        "                   0, 0, 0, 0, 1, 0, 1, 0, 1, 1, 0, 0, 0, 1, 0, 0, 0, 1, 0, 0, 1, 0, 0, 1, 0, 1, 0, 0, 1, 0, 0, 0, 0, 0]"
      ],
      "metadata": {
        "id": "uYCgSTTPwW8V"
      },
      "execution_count": 4,
      "outputs": []
    },
    {
      "cell_type": "code",
      "source": [
        "liar_array = np.array(daily_liar_data)\n",
        "print(len(liar_array[liar_array == 0]))\n",
        "print(liar_array[liar_array == 0].size)"
      ],
      "metadata": {
        "colab": {
          "base_uri": "https://localhost:8080/"
        },
        "id": "_k_vXfPcwZNF",
        "outputId": "efe1c6ef-f0cc-4e3d-a148-be496e43298b"
      },
      "execution_count": 8,
      "outputs": [
        {
          "output_type": "stream",
          "name": "stdout",
          "text": [
            "71\n",
            "71\n"
          ]
        }
      ]
    },
    {
      "cell_type": "code",
      "source": [
        "# count_nonzero 0 이거나 false가 아닌 수를 카운트 해주는 메소드\n",
        "print(liar_array == 0)\n",
        "print(np.count_nonzero(liar_array == 0))"
      ],
      "metadata": {
        "colab": {
          "base_uri": "https://localhost:8080/"
        },
        "id": "ErHgIYj_w1YR",
        "outputId": "b6133cf8-d585-4792-8aae-8e74cf37cce8"
      },
      "execution_count": 9,
      "outputs": [
        {
          "output_type": "stream",
          "name": "stdout",
          "text": [
            "[ True  True  True  True  True False False  True False False  True  True\n",
            "  True False  True  True False  True  True False  True  True  True False\n",
            "  True  True  True  True  True False  True  True  True False  True  True\n",
            "  True  True  True  True  True  True  True  True False False  True False\n",
            " False  True  True  True  True  True False  True False  True  True False\n",
            "  True False  True  True False  True  True  True  True  True False  True\n",
            " False  True False False  True  True  True False  True  True  True False\n",
            "  True  True False  True  True False  True False  True  True False  True\n",
            "  True  True  True  True]\n",
            "71\n"
          ]
        }
      ]
    }
  ]
}