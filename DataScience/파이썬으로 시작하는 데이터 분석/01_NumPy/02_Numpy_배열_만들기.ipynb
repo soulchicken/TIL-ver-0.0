{
  "nbformat": 4,
  "nbformat_minor": 0,
  "metadata": {
    "colab": {
      "name": "02_Numpy_배열 만들기.ipynb",
      "provenance": []
    },
    "kernelspec": {
      "name": "python3",
      "display_name": "Python 3"
    },
    "language_info": {
      "name": "python"
    }
  },
  "cells": [
    {
      "cell_type": "markdown",
      "source": [
        "# Numpy 기초\n",
        "\n",
        "> ### **Numpy**\n",
        "> - **Numerical Python.** Python에서 **대규모 다차원 배열** 을 다룰 수 있게 도와주는 라이브러리\n",
        "> - 데이터의 대부분은 숫자 배열로 볼 수 있다.\n",
        ">   - ex) 사진 : 픽셀마다 데이터를 숫자로 표현할 수 있음\n",
        ">   - ex) 소리 : 음압, 시간으로 2차원 배열이 가능하다.\n",
        "\n",
        "## 외않 List?\n",
        "- 파이썬 리스트로 계산할 수 있지만 numpy는 **빠른 연산** 을 지원하고 **메모리를 효율적으로** 사용할 수 있다.\n",
        "\n",
        "<br><br><br><br>\n",
        "\n",
        "## 배열 만들기"
      ],
      "metadata": {
        "id": "JsEUYnThy5W-"
      }
    },
    {
      "cell_type": "code",
      "source": [
        "list(range(10)) # [0,1,2,3,4,5,6,7,8,9]"
      ],
      "metadata": {
        "colab": {
          "base_uri": "https://localhost:8080/"
        },
        "id": "UWTTj-zLy9rZ",
        "outputId": "7af2f28d-a871-4701-8266-bcc3da649b51"
      },
      "execution_count": null,
      "outputs": [
        {
          "output_type": "execute_result",
          "data": {
            "text/plain": [
              "[0, 1, 2, 3, 4, 5, 6, 7, 8, 9]"
            ]
          },
          "metadata": {},
          "execution_count": 1
        }
      ]
    },
    {
      "cell_type": "code",
      "source": [
        "import numpy as np\n",
        "np.array([1,2,3,4,5]) # array([1,2,3,4,5])"
      ],
      "metadata": {
        "colab": {
          "base_uri": "https://localhost:8080/"
        },
        "id": "vL22NwzPzGo0",
        "outputId": "42b5be13-c61a-491f-a8cc-45125e873a8c"
      },
      "execution_count": 1,
      "outputs": [
        {
          "output_type": "execute_result",
          "data": {
            "text/plain": [
              "array([1, 2, 3, 4, 5])"
            ]
          },
          "metadata": {},
          "execution_count": 1
        }
      ]
    },
    {
      "cell_type": "code",
      "source": [
        "np.array([[1,2],\n",
        "          [3,4]])"
      ],
      "metadata": {
        "colab": {
          "base_uri": "https://localhost:8080/"
        },
        "id": "hQoYh6-9zHLs",
        "outputId": "8c8a9ba0-b1c8-4665-b6f7-410d9fa038d2"
      },
      "execution_count": null,
      "outputs": [
        {
          "output_type": "execute_result",
          "data": {
            "text/plain": [
              "array([[1, 2],\n",
              "       [3, 4]])"
            ]
          },
          "metadata": {},
          "execution_count": 3
        }
      ]
    },
    {
      "cell_type": "code",
      "source": [
        "np.array([1,2,3,4],dtype='float') # 실수형태"
      ],
      "metadata": {
        "colab": {
          "base_uri": "https://localhost:8080/"
        },
        "id": "XFDcZn0RzSuu",
        "outputId": "f8e74f2c-3d4e-4fad-800e-46fccf9aec33"
      },
      "execution_count": null,
      "outputs": [
        {
          "output_type": "execute_result",
          "data": {
            "text/plain": [
              "array([1., 2., 3., 4.])"
            ]
          },
          "metadata": {},
          "execution_count": 4
        }
      ]
    },
    {
      "cell_type": "markdown",
      "source": [
        "### 배열 데이터 타입 dtype\n",
        "- 파이썬 List와 다르게 array는 단일타입으로 구정되있다.\n",
        "\n",
        "- int : 정수형 (i, int_, int32, int64, i8)\n",
        "- float : 실수형 (f, float_, float32 ...)\n",
        "- str : 문자열 (str, U, U32)\n",
        "- bool : 부울 (?, bool_)"
      ],
      "metadata": {
        "id": "BJrvFlbVzXGn"
      }
    },
    {
      "cell_type": "code",
      "source": [
        "arr = np.array([1,2,3,4,5],dtype='float')\n",
        "arr"
      ],
      "metadata": {
        "colab": {
          "base_uri": "https://localhost:8080/"
        },
        "id": "yBoedxySz2YM",
        "outputId": "64ae224e-36a7-40be-c5fe-b132d51ea639"
      },
      "execution_count": null,
      "outputs": [
        {
          "output_type": "execute_result",
          "data": {
            "text/plain": [
              "array([1., 2., 3., 4., 5.])"
            ]
          },
          "metadata": {},
          "execution_count": 6
        }
      ]
    },
    {
      "cell_type": "code",
      "source": [
        "arr.dtype"
      ],
      "metadata": {
        "colab": {
          "base_uri": "https://localhost:8080/"
        },
        "id": "C5iRqr6Fz8Y9",
        "outputId": "db493c0e-fbd1-483d-92de-9c88661e3333"
      },
      "execution_count": null,
      "outputs": [
        {
          "output_type": "execute_result",
          "data": {
            "text/plain": [
              "dtype('float64')"
            ]
          },
          "metadata": {},
          "execution_count": 7
        }
      ]
    },
    {
      "cell_type": "code",
      "source": [
        "arr.astype(int) # 데이터타입 변경하기"
      ],
      "metadata": {
        "colab": {
          "base_uri": "https://localhost:8080/"
        },
        "id": "nb78R1MGz9ol",
        "outputId": "d752d9b9-3e5e-4893-d3c4-992fa06c02b1"
      },
      "execution_count": null,
      "outputs": [
        {
          "output_type": "execute_result",
          "data": {
            "text/plain": [
              "array([1, 2, 3, 4, 5])"
            ]
          },
          "metadata": {},
          "execution_count": 8
        }
      ]
    },
    {
      "cell_type": "markdown",
      "source": [
        "### 다양한 배열 만들기"
      ],
      "metadata": {
        "id": "NtDSxSBUz_ct"
      }
    },
    {
      "cell_type": "code",
      "source": [
        "np.zeros(10, dtype=int)"
      ],
      "metadata": {
        "colab": {
          "base_uri": "https://localhost:8080/"
        },
        "id": "cm0XakhQ1pxN",
        "outputId": "f55e176b-aade-40fb-ed04-3a530ec4e992"
      },
      "execution_count": null,
      "outputs": [
        {
          "output_type": "execute_result",
          "data": {
            "text/plain": [
              "array([0, 0, 0, 0, 0, 0, 0, 0, 0, 0])"
            ]
          },
          "metadata": {},
          "execution_count": 9
        }
      ]
    },
    {
      "cell_type": "code",
      "source": [
        "np.ones((3,5), dtype=float)"
      ],
      "metadata": {
        "colab": {
          "base_uri": "https://localhost:8080/"
        },
        "id": "oPINBWxT1rkf",
        "outputId": "b97c33f6-8d35-447d-e6f3-fdb593fe388f"
      },
      "execution_count": null,
      "outputs": [
        {
          "output_type": "execute_result",
          "data": {
            "text/plain": [
              "array([[1., 1., 1., 1., 1.],\n",
              "       [1., 1., 1., 1., 1.],\n",
              "       [1., 1., 1., 1., 1.]])"
            ]
          },
          "metadata": {},
          "execution_count": 10
        }
      ]
    },
    {
      "cell_type": "code",
      "source": [
        "np.arange(0,20,2)"
      ],
      "metadata": {
        "colab": {
          "base_uri": "https://localhost:8080/"
        },
        "id": "72j1yYlB1u8J",
        "outputId": "3562753b-2e5e-4af6-d807-cf4e1e6d8c22"
      },
      "execution_count": null,
      "outputs": [
        {
          "output_type": "execute_result",
          "data": {
            "text/plain": [
              "array([ 0,  2,  4,  6,  8, 10, 12, 14, 16, 18])"
            ]
          },
          "metadata": {},
          "execution_count": 12
        }
      ]
    },
    {
      "cell_type": "code",
      "source": [
        "np.linspace(0,1,5)"
      ],
      "metadata": {
        "colab": {
          "base_uri": "https://localhost:8080/"
        },
        "id": "-4bnoGNU1zpo",
        "outputId": "b1897c9b-eff4-419d-b874-e61da34e2d7f"
      },
      "execution_count": null,
      "outputs": [
        {
          "output_type": "execute_result",
          "data": {
            "text/plain": [
              "array([0.  , 0.25, 0.5 , 0.75, 1.  ])"
            ]
          },
          "metadata": {},
          "execution_count": 13
        }
      ]
    },
    {
      "cell_type": "markdown",
      "source": [
        "#### 난수로 채워진 배열"
      ],
      "metadata": {
        "id": "B0f47UVK1145"
      }
    },
    {
      "cell_type": "code",
      "source": [
        "np.random.random((2,2))"
      ],
      "metadata": {
        "colab": {
          "base_uri": "https://localhost:8080/"
        },
        "id": "xUo12CmN2J58",
        "outputId": "4e1e4265-d80d-4adf-ca7b-f9deb25e62bc"
      },
      "execution_count": null,
      "outputs": [
        {
          "output_type": "execute_result",
          "data": {
            "text/plain": [
              "array([[0.85281579, 0.40676426],\n",
              "       [0.64675512, 0.74872535]])"
            ]
          },
          "metadata": {},
          "execution_count": 15
        }
      ]
    },
    {
      "cell_type": "code",
      "source": [
        "np.random.normal(0,1,(2,2)) # 정규분포로 추출. : 여기에선 평균이 0이고 표준편차가 1인 2x2 행렬"
      ],
      "metadata": {
        "colab": {
          "base_uri": "https://localhost:8080/"
        },
        "id": "yGZwOn3F2L4E",
        "outputId": "ab9beffa-8b73-48fa-b5fe-1de950ccbbce"
      },
      "execution_count": null,
      "outputs": [
        {
          "output_type": "execute_result",
          "data": {
            "text/plain": [
              "array([[0.89195082, 0.34020115],\n",
              "       [0.85869581, 0.19066568]])"
            ]
          },
          "metadata": {},
          "execution_count": 16
        }
      ]
    },
    {
      "cell_type": "code",
      "source": [
        "np.random.randint(0,10,(2,2))"
      ],
      "metadata": {
        "colab": {
          "base_uri": "https://localhost:8080/"
        },
        "id": "-ADhB-JR2PhV",
        "outputId": "236df0b6-55bd-46fe-b38e-0c08d63974f9"
      },
      "execution_count": null,
      "outputs": [
        {
          "output_type": "execute_result",
          "data": {
            "text/plain": [
              "array([[0, 4],\n",
              "       [5, 7]])"
            ]
          },
          "metadata": {},
          "execution_count": 17
        }
      ]
    },
    {
      "cell_type": "code",
      "source": [
        "#0부터 5사이 랜덤한 값(정수)이 담긴 3x5 array를 만들어 봅시다!\n",
        "\n",
        "array = np.random.randint(0,5,size=(3,5))\n",
        "array"
      ],
      "metadata": {
        "colab": {
          "base_uri": "https://localhost:8080/"
        },
        "id": "Czt6sxGh2V42",
        "outputId": "55489c25-02fd-4308-827c-697cdd0947a4"
      },
      "execution_count": 3,
      "outputs": [
        {
          "output_type": "execute_result",
          "data": {
            "text/plain": [
              "array([[1, 1, 4, 1, 0],\n",
              "       [2, 1, 1, 4, 1],\n",
              "       [3, 3, 2, 2, 0]])"
            ]
          },
          "metadata": {},
          "execution_count": 3
        }
      ]
    },
    {
      "cell_type": "markdown",
      "source": [
        "## 배열 기초"
      ],
      "metadata": {
        "id": "bUpU5oyPdLk-"
      }
    },
    {
      "cell_type": "code",
      "source": [
        "x2 = np.random.randint(10, size=(3, 4)) # 3 x 4 배열 생성\n",
        "x2"
      ],
      "metadata": {
        "id": "frgHX1SPz0OS",
        "colab": {
          "base_uri": "https://localhost:8080/"
        },
        "outputId": "7b3e6e06-6d8c-4cac-a5d8-609099ed31c0"
      },
      "execution_count": 5,
      "outputs": [
        {
          "output_type": "execute_result",
          "data": {
            "text/plain": [
              "array([[0, 5, 0, 1],\n",
              "       [7, 4, 2, 1],\n",
              "       [6, 2, 9, 3]])"
            ]
          },
          "metadata": {},
          "execution_count": 5
        }
      ]
    },
    {
      "cell_type": "code",
      "source": [
        "x2.ndim # n차원 배열"
      ],
      "metadata": {
        "colab": {
          "base_uri": "https://localhost:8080/"
        },
        "id": "lWIj5f6ic7_n",
        "outputId": "e08a8207-1c51-4c53-fe08-85b34b6a661c"
      },
      "execution_count": 6,
      "outputs": [
        {
          "output_type": "execute_result",
          "data": {
            "text/plain": [
              "2"
            ]
          },
          "metadata": {},
          "execution_count": 6
        }
      ]
    },
    {
      "cell_type": "code",
      "source": [
        "x2.shape # 배열의 형태 (n * m)"
      ],
      "metadata": {
        "colab": {
          "base_uri": "https://localhost:8080/"
        },
        "id": "3J2mHEF0dE40",
        "outputId": "96eb3e0c-bd16-476a-9f51-2a6960c11c3e"
      },
      "execution_count": 7,
      "outputs": [
        {
          "output_type": "execute_result",
          "data": {
            "text/plain": [
              "(3, 4)"
            ]
          },
          "metadata": {},
          "execution_count": 7
        }
      ]
    },
    {
      "cell_type": "code",
      "source": [
        "x2.size # 원소의 개수"
      ],
      "metadata": {
        "colab": {
          "base_uri": "https://localhost:8080/"
        },
        "id": "ZsCXoYRndF2L",
        "outputId": "5c4a1d37-3e30-4466-da53-54db41bbcb24"
      },
      "execution_count": 8,
      "outputs": [
        {
          "output_type": "execute_result",
          "data": {
            "text/plain": [
              "12"
            ]
          },
          "metadata": {},
          "execution_count": 8
        }
      ]
    },
    {
      "cell_type": "code",
      "source": [
        "x2.dtype # 데이터타입"
      ],
      "metadata": {
        "colab": {
          "base_uri": "https://localhost:8080/"
        },
        "id": "iCKpfJusdGeD",
        "outputId": "c1cfd4e5-fb1c-490a-941b-c5380294855f"
      },
      "execution_count": 10,
      "outputs": [
        {
          "output_type": "execute_result",
          "data": {
            "text/plain": [
              "dtype('int64')"
            ]
          },
          "metadata": {},
          "execution_count": 10
        }
      ]
    },
    {
      "cell_type": "markdown",
      "source": [
        "## 데이터 찾고 잘라내기\n",
        "- indexing : 인덱스로 값을 찾기"
      ],
      "metadata": {
        "id": "_iMypzAFdHhR"
      }
    },
    {
      "cell_type": "code",
      "source": [
        "x = np.arange(7)\n",
        "x"
      ],
      "metadata": {
        "colab": {
          "base_uri": "https://localhost:8080/"
        },
        "id": "bsoARJhcdroS",
        "outputId": "d915e190-3112-417a-c772-96089e2c5e75"
      },
      "execution_count": 11,
      "outputs": [
        {
          "output_type": "execute_result",
          "data": {
            "text/plain": [
              "array([0, 1, 2, 3, 4, 5, 6])"
            ]
          },
          "metadata": {},
          "execution_count": 11
        }
      ]
    },
    {
      "cell_type": "code",
      "source": [
        "x[3]"
      ],
      "metadata": {
        "colab": {
          "base_uri": "https://localhost:8080/"
        },
        "id": "uupWwFZTduCI",
        "outputId": "a62c903f-830a-4a77-e493-34eb606d5a5a"
      },
      "execution_count": 12,
      "outputs": [
        {
          "output_type": "execute_result",
          "data": {
            "text/plain": [
              "3"
            ]
          },
          "metadata": {},
          "execution_count": 12
        }
      ]
    },
    {
      "cell_type": "code",
      "source": [
        "x[7] # 에러발생"
      ],
      "metadata": {
        "colab": {
          "base_uri": "https://localhost:8080/",
          "height": 172
        },
        "id": "mYIh5DIMdusI",
        "outputId": "bfbad467-26f3-4c42-b316-a7f8bf950b18"
      },
      "execution_count": 13,
      "outputs": [
        {
          "output_type": "error",
          "ename": "IndexError",
          "evalue": "ignored",
          "traceback": [
            "\u001b[0;31m---------------------------------------------------------------------------\u001b[0m",
            "\u001b[0;31mIndexError\u001b[0m                                Traceback (most recent call last)",
            "\u001b[0;32m<ipython-input-13-bab2fb52cc79>\u001b[0m in \u001b[0;36m<module>\u001b[0;34m()\u001b[0m\n\u001b[0;32m----> 1\u001b[0;31m \u001b[0mx\u001b[0m\u001b[0;34m[\u001b[0m\u001b[0;36m7\u001b[0m\u001b[0;34m]\u001b[0m \u001b[0;31m# 에러발생\u001b[0m\u001b[0;34m\u001b[0m\u001b[0;34m\u001b[0m\u001b[0m\n\u001b[0m",
            "\u001b[0;31mIndexError\u001b[0m: index 7 is out of bounds for axis 0 with size 7"
          ]
        }
      ]
    },
    {
      "cell_type": "code",
      "source": [
        "x[0] = 10\n",
        "x"
      ],
      "metadata": {
        "colab": {
          "base_uri": "https://localhost:8080/"
        },
        "id": "KCizktuYdwex",
        "outputId": "16336538-c4e1-4669-dbe8-7684e05e6358"
      },
      "execution_count": 14,
      "outputs": [
        {
          "output_type": "execute_result",
          "data": {
            "text/plain": [
              "array([10,  1,  2,  3,  4,  5,  6])"
            ]
          },
          "metadata": {},
          "execution_count": 14
        }
      ]
    },
    {
      "cell_type": "markdown",
      "source": [
        "- slicing : 인덱스 값으로 배열의 부분을 가져오기"
      ],
      "metadata": {
        "id": "PJg-Pu3tdzJC"
      }
    },
    {
      "cell_type": "code",
      "source": [
        "x = np.arange(7)\n",
        "x"
      ],
      "metadata": {
        "colab": {
          "base_uri": "https://localhost:8080/"
        },
        "id": "HchwPAh-d66e",
        "outputId": "cbc1543a-6786-4054-e360-123d36072a55"
      },
      "execution_count": 15,
      "outputs": [
        {
          "output_type": "execute_result",
          "data": {
            "text/plain": [
              "array([0, 1, 2, 3, 4, 5, 6])"
            ]
          },
          "metadata": {},
          "execution_count": 15
        }
      ]
    },
    {
      "cell_type": "code",
      "source": [
        "x[1:]"
      ],
      "metadata": {
        "colab": {
          "base_uri": "https://localhost:8080/"
        },
        "id": "LJ_sqw-Rd-LP",
        "outputId": "3f9b49e8-8168-4c16-b208-6891ae3e2a65"
      },
      "execution_count": 16,
      "outputs": [
        {
          "output_type": "execute_result",
          "data": {
            "text/plain": [
              "array([1, 2, 3, 4, 5, 6])"
            ]
          },
          "metadata": {},
          "execution_count": 16
        }
      ]
    },
    {
      "cell_type": "code",
      "source": [
        "x[:4]"
      ],
      "metadata": {
        "colab": {
          "base_uri": "https://localhost:8080/"
        },
        "id": "v7BBP_NOd_Pa",
        "outputId": "73ef8473-0d1a-41f2-ecbd-17acc7e737d0"
      },
      "execution_count": 17,
      "outputs": [
        {
          "output_type": "execute_result",
          "data": {
            "text/plain": [
              "array([0, 1, 2, 3])"
            ]
          },
          "metadata": {},
          "execution_count": 17
        }
      ]
    },
    {
      "cell_type": "code",
      "source": [
        "x[::2]"
      ],
      "metadata": {
        "colab": {
          "base_uri": "https://localhost:8080/"
        },
        "id": "k6hpXQy0eArD",
        "outputId": "ea09beb1-f8eb-4ec7-8d24-79eef759a95f"
      },
      "execution_count": 18,
      "outputs": [
        {
          "output_type": "execute_result",
          "data": {
            "text/plain": [
              "array([0, 2, 4, 6])"
            ]
          },
          "metadata": {},
          "execution_count": 18
        }
      ]
    },
    {
      "cell_type": "code",
      "source": [
        ""
      ],
      "metadata": {
        "id": "tM0Xw5FbeCgv"
      },
      "execution_count": null,
      "outputs": []
    }
  ]
}