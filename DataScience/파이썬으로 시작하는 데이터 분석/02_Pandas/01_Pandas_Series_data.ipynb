{
  "nbformat": 4,
  "nbformat_minor": 0,
  "metadata": {
    "colab": {
      "name": "07_Pandas_Series data.ipynb",
      "provenance": [],
      "collapsed_sections": []
    },
    "kernelspec": {
      "name": "python3",
      "display_name": "Python 3"
    },
    "language_info": {
      "name": "python"
    }
  },
  "cells": [
    {
      "cell_type": "markdown",
      "source": [
        "# Pandas\n",
        "- 구조화된 데이터를 효과적으로 처리하고 저장할 수 있는 파이썬 라이브러리.\n",
        "- Array 계산에 특화된 numpy를 기반으로 만들어져 다양한 기능들을 제공\n",
        "\n",
        "## Series\n",
        "- numpy array가 보강된 형태 Data와 Index를 가지고 있다.\n",
        "- 인덱스를 가지고 있어서 인덱스로 접근 가능하다."
      ],
      "metadata": {
        "id": "ufiP1wfT_f8u"
      }
    },
    {
      "cell_type": "code",
      "source": [
        "import pandas as pd\n",
        "\n",
        "data = pd.Series([1,2,3,4])\n",
        "data # 인덱스, 데이터값으로 정렬"
      ],
      "metadata": {
        "colab": {
          "base_uri": "https://localhost:8080/"
        },
        "id": "OkzZuH_WAToH",
        "outputId": "e5f2d5fa-f963-4373-efce-a4ac57e31ff6"
      },
      "execution_count": 2,
      "outputs": [
        {
          "output_type": "execute_result",
          "data": {
            "text/plain": [
              "0    1\n",
              "1    2\n",
              "2    3\n",
              "3    4\n",
              "dtype: int64"
            ]
          },
          "metadata": {},
          "execution_count": 2
        }
      ]
    },
    {
      "cell_type": "code",
      "source": [
        "data = pd.Series([1,2,3,4], index=['a','b','c','d'])\n",
        "data['b']"
      ],
      "metadata": {
        "colab": {
          "base_uri": "https://localhost:8080/"
        },
        "id": "GFx_SXnSAh3v",
        "outputId": "8fa534ac-e296-4b60-e61d-1ca3cadddc4c"
      },
      "execution_count": 4,
      "outputs": [
        {
          "output_type": "execute_result",
          "data": {
            "text/plain": [
              "2"
            ]
          },
          "metadata": {},
          "execution_count": 4
        }
      ]
    },
    {
      "cell_type": "code",
      "source": [
        "data"
      ],
      "metadata": {
        "colab": {
          "base_uri": "https://localhost:8080/"
        },
        "id": "O7pnBMy7AxYm",
        "outputId": "c4030311-4511-45e4-94d9-7852ed60c1c5"
      },
      "execution_count": 5,
      "outputs": [
        {
          "output_type": "execute_result",
          "data": {
            "text/plain": [
              "a    1\n",
              "b    2\n",
              "c    3\n",
              "d    4\n",
              "dtype: int64"
            ]
          },
          "metadata": {},
          "execution_count": 5
        }
      ]
    },
    {
      "cell_type": "markdown",
      "source": [
        "### 딕셔너리로 series 만들기"
      ],
      "metadata": {
        "id": "aNCfOo6OAxx2"
      }
    },
    {
      "cell_type": "code",
      "source": [
        "population_dic = {\n",
        "    'korea' : 5180,\n",
        "    'japan' : 12718,\n",
        "    'china' : 141500,\n",
        "    'usa' : 32676\n",
        "}\n",
        "population = pd.Series(population_dic)\n",
        "population"
      ],
      "metadata": {
        "colab": {
          "base_uri": "https://localhost:8080/"
        },
        "id": "KIuSSC7DA3PW",
        "outputId": "b0afc317-21ba-434d-ce09-e8450eb95d78"
      },
      "execution_count": 7,
      "outputs": [
        {
          "output_type": "execute_result",
          "data": {
            "text/plain": [
              "korea      5180\n",
              "japan     12718\n",
              "china    141500\n",
              "usa       32676\n",
              "dtype: int64"
            ]
          },
          "metadata": {},
          "execution_count": 7
        }
      ]
    },
    {
      "cell_type": "code",
      "source": [
        ""
      ],
      "metadata": {
        "id": "QZZqEjf0BJAd"
      },
      "execution_count": null,
      "outputs": []
    },
    {
      "cell_type": "code",
      "source": [
        ""
      ],
      "metadata": {
        "id": "SmevMdtfBHX2"
      },
      "execution_count": null,
      "outputs": []
    }
  ]
}